{
  "nbformat": 4,
  "nbformat_minor": 0,
  "metadata": {
    "colab": {
      "name": "NumPy-Tutorial.ipynb",
      "provenance": [],
      "authorship_tag": "ABX9TyMQRvdKPMsTRFnEdIHVKMri",
      "include_colab_link": true
    },
    "kernelspec": {
      "name": "python3",
      "display_name": "Python 3"
    },
    "language_info": {
      "name": "python"
    }
  },
  "cells": [
    {
      "cell_type": "markdown",
      "metadata": {
        "id": "view-in-github",
        "colab_type": "text"
      },
      "source": [
        "<a href=\"https://colab.research.google.com/github/Ankit-Vishvakarma/Learing_Python/blob/main/NumPy_Tutorial.ipynb\" target=\"_parent\"><img src=\"https://colab.research.google.com/assets/colab-badge.svg\" alt=\"Open In Colab\"/></a>"
      ]
    },
    {
      "cell_type": "markdown",
      "source": [
        "**NumPy**, which stands for Numerical Python, is a library consisting of multidimensional array objects and a collection of routines for processing those arrays. Using NumPy, mathematical and logical operations on arrays can be performed. NumPy is a Python package. It stands for 'Numerical Python'."
      ],
      "metadata": {
        "id": "GE4VsOtN9II5"
      }
    },
    {
      "cell_type": "markdown",
      "source": [
        "**Importing NumPy Library**"
      ],
      "metadata": {
        "id": "qZWBkji5sCsR"
      }
    },
    {
      "cell_type": "code",
      "execution_count": null,
      "metadata": {
        "id": "-OjzFM0XkT_3"
      },
      "outputs": [],
      "source": [
        "import numpy as np\n",
        "n1 = np.array([10,20,30,40])"
      ]
    },
    {
      "cell_type": "code",
      "source": [
        "n1"
      ],
      "metadata": {
        "colab": {
          "base_uri": "https://localhost:8080/"
        },
        "id": "APON4-6YkoaD",
        "outputId": "11b7ea48-836f-46a9-e5d8-719aee26d88c"
      },
      "execution_count": null,
      "outputs": [
        {
          "output_type": "execute_result",
          "data": {
            "text/plain": [
              "array([10, 20, 30, 40])"
            ]
          },
          "metadata": {},
          "execution_count": 4
        }
      ]
    },
    {
      "cell_type": "code",
      "source": [
        "n2 = np.array([[10,20,30,40],[40,30,20,10]])"
      ],
      "metadata": {
        "id": "fhMHlR_FkwMz"
      },
      "execution_count": null,
      "outputs": []
    },
    {
      "cell_type": "code",
      "source": [
        "n2"
      ],
      "metadata": {
        "colab": {
          "base_uri": "https://localhost:8080/"
        },
        "id": "m9h-xtRMk_xH",
        "outputId": "bf366dfd-cd7f-4532-9ff7-4e794355705f"
      },
      "execution_count": null,
      "outputs": [
        {
          "output_type": "execute_result",
          "data": {
            "text/plain": [
              "array([[10, 20, 30, 40],\n",
              "       [40, 30, 20, 10]])"
            ]
          },
          "metadata": {},
          "execution_count": 6
        }
      ]
    },
    {
      "cell_type": "code",
      "source": [
        "type(n1)"
      ],
      "metadata": {
        "colab": {
          "base_uri": "https://localhost:8080/"
        },
        "id": "tiXgR_sTlBUf",
        "outputId": "06af98d3-77f9-4f9d-ca29-6b4245685a18"
      },
      "execution_count": null,
      "outputs": [
        {
          "output_type": "execute_result",
          "data": {
            "text/plain": [
              "numpy.ndarray"
            ]
          },
          "metadata": {},
          "execution_count": 7
        }
      ]
    },
    {
      "cell_type": "markdown",
      "source": [
        "**To create an NumPy array initially having all Zeroes**"
      ],
      "metadata": {
        "id": "3pS8psmomZHA"
      }
    },
    {
      "cell_type": "code",
      "source": [
        "n3 = np.zeros((2,2))"
      ],
      "metadata": {
        "id": "1MmBhoUbmpyP"
      },
      "execution_count": null,
      "outputs": []
    },
    {
      "cell_type": "code",
      "source": [
        "n3"
      ],
      "metadata": {
        "colab": {
          "base_uri": "https://localhost:8080/"
        },
        "id": "yjWCjFkfm1ZI",
        "outputId": "c1fa5d64-b248-4629-8441-3b883a8a30f8"
      },
      "execution_count": null,
      "outputs": [
        {
          "output_type": "execute_result",
          "data": {
            "text/plain": [
              "array([[0., 0.],\n",
              "       [0., 0.]])"
            ]
          },
          "metadata": {},
          "execution_count": 9
        }
      ]
    },
    {
      "cell_type": "code",
      "source": [
        "n4 = np.zeros((10,10))"
      ],
      "metadata": {
        "id": "mryCzu8pm28Q"
      },
      "execution_count": null,
      "outputs": []
    },
    {
      "cell_type": "code",
      "source": [
        "n4"
      ],
      "metadata": {
        "colab": {
          "base_uri": "https://localhost:8080/"
        },
        "id": "C7iiv47zm9uX",
        "outputId": "3a8dfc99-cada-4042-90ae-eb0b8dda49bc"
      },
      "execution_count": null,
      "outputs": [
        {
          "output_type": "execute_result",
          "data": {
            "text/plain": [
              "array([[0., 0., 0., 0., 0., 0., 0., 0., 0., 0.],\n",
              "       [0., 0., 0., 0., 0., 0., 0., 0., 0., 0.],\n",
              "       [0., 0., 0., 0., 0., 0., 0., 0., 0., 0.],\n",
              "       [0., 0., 0., 0., 0., 0., 0., 0., 0., 0.],\n",
              "       [0., 0., 0., 0., 0., 0., 0., 0., 0., 0.],\n",
              "       [0., 0., 0., 0., 0., 0., 0., 0., 0., 0.],\n",
              "       [0., 0., 0., 0., 0., 0., 0., 0., 0., 0.],\n",
              "       [0., 0., 0., 0., 0., 0., 0., 0., 0., 0.],\n",
              "       [0., 0., 0., 0., 0., 0., 0., 0., 0., 0.],\n",
              "       [0., 0., 0., 0., 0., 0., 0., 0., 0., 0.]])"
            ]
          },
          "metadata": {},
          "execution_count": 11
        }
      ]
    },
    {
      "cell_type": "markdown",
      "source": [
        "**To create an NumPy array initially having Specific Value**"
      ],
      "metadata": {
        "id": "5s66Z7f1nDuM"
      }
    },
    {
      "cell_type": "code",
      "source": [
        "n5 = np.full((2,2),10)"
      ],
      "metadata": {
        "id": "pETqhW4KnLt4"
      },
      "execution_count": null,
      "outputs": []
    },
    {
      "cell_type": "code",
      "source": [
        "print(n5)"
      ],
      "metadata": {
        "colab": {
          "base_uri": "https://localhost:8080/"
        },
        "id": "loE1GaB9nZtl",
        "outputId": "b2ffd6da-c2ec-40a8-c906-31c72b6c1fcd"
      },
      "execution_count": null,
      "outputs": [
        {
          "output_type": "stream",
          "name": "stdout",
          "text": [
            "[[10 10]\n",
            " [10 10]]\n"
          ]
        }
      ]
    },
    {
      "cell_type": "markdown",
      "source": [
        "**Initializing NumPy array within a range**"
      ],
      "metadata": {
        "id": "tBlsPvqBqokg"
      }
    },
    {
      "cell_type": "code",
      "source": [
        "n6 = np.arange(10,20)"
      ],
      "metadata": {
        "id": "HdBEQbkPqzFy"
      },
      "execution_count": null,
      "outputs": []
    },
    {
      "cell_type": "code",
      "source": [
        "n6"
      ],
      "metadata": {
        "colab": {
          "base_uri": "https://localhost:8080/"
        },
        "id": "0Cbnve9oq7Oq",
        "outputId": "b1e4c40e-ac06-451a-df4b-9ec8c0585924"
      },
      "execution_count": null,
      "outputs": [
        {
          "output_type": "execute_result",
          "data": {
            "text/plain": [
              "array([10, 11, 12, 13, 14, 15, 16, 17, 18, 19])"
            ]
          },
          "metadata": {},
          "execution_count": 15
        }
      ]
    },
    {
      "cell_type": "code",
      "source": [
        "n7 = np.arange(10,50,5)"
      ],
      "metadata": {
        "id": "fk9mDr34q84u"
      },
      "execution_count": null,
      "outputs": []
    },
    {
      "cell_type": "code",
      "source": [
        "n7 "
      ],
      "metadata": {
        "colab": {
          "base_uri": "https://localhost:8080/"
        },
        "id": "3e2Sr9TGrHus",
        "outputId": "6af8b1f2-6282-4d3d-85e0-abd10bf75808"
      },
      "execution_count": null,
      "outputs": [
        {
          "output_type": "execute_result",
          "data": {
            "text/plain": [
              "array([10, 15, 20, 25, 30, 35, 40, 45])"
            ]
          },
          "metadata": {},
          "execution_count": 17
        }
      ]
    },
    {
      "cell_type": "markdown",
      "source": [
        "**Initializing NumPy array with random Numbers**"
      ],
      "metadata": {
        "id": "Db1iGubhrcrq"
      }
    },
    {
      "cell_type": "code",
      "source": [
        "n8 = np.random.randint(1,100,5)"
      ],
      "metadata": {
        "id": "QU5Ufpaxrq-a"
      },
      "execution_count": null,
      "outputs": []
    },
    {
      "cell_type": "code",
      "source": [
        "n8"
      ],
      "metadata": {
        "colab": {
          "base_uri": "https://localhost:8080/"
        },
        "id": "7nMY_yVYrzSm",
        "outputId": "b6cb9af4-f67e-4849-adc0-49bd3326508c"
      },
      "execution_count": null,
      "outputs": [
        {
          "output_type": "execute_result",
          "data": {
            "text/plain": [
              "array([25, 25, 52, 14, 20])"
            ]
          },
          "metadata": {},
          "execution_count": 19
        }
      ]
    },
    {
      "cell_type": "markdown",
      "source": [
        "**Checking the shape of the NumPy arrays**"
      ],
      "metadata": {
        "id": "HpeMN94tsg5-"
      }
    },
    {
      "cell_type": "code",
      "source": [
        "n9 = np.array([[1,2,3,4],[4,5,6,7]])"
      ],
      "metadata": {
        "id": "k6UVjhfusqBK"
      },
      "execution_count": null,
      "outputs": []
    },
    {
      "cell_type": "code",
      "source": [
        "n9"
      ],
      "metadata": {
        "colab": {
          "base_uri": "https://localhost:8080/"
        },
        "id": "7CIAa3bruaE8",
        "outputId": "5086975b-3823-4583-a9c6-858eff6b1545"
      },
      "execution_count": null,
      "outputs": [
        {
          "output_type": "execute_result",
          "data": {
            "text/plain": [
              "array([[1, 2, 3, 4],\n",
              "       [4, 5, 6, 7]])"
            ]
          },
          "metadata": {},
          "execution_count": 23
        }
      ]
    },
    {
      "cell_type": "code",
      "source": [
        "n9.shape = (4,2)"
      ],
      "metadata": {
        "id": "B14yBEvTubZT"
      },
      "execution_count": null,
      "outputs": []
    },
    {
      "cell_type": "code",
      "source": [
        "n9"
      ],
      "metadata": {
        "colab": {
          "base_uri": "https://localhost:8080/"
        },
        "id": "6YdToTXWuiv1",
        "outputId": "75e56114-c9d1-4593-eb55-b9f282b056be"
      },
      "execution_count": null,
      "outputs": [
        {
          "output_type": "execute_result",
          "data": {
            "text/plain": [
              "array([[1, 2],\n",
              "       [3, 4],\n",
              "       [4, 5],\n",
              "       [6, 7]])"
            ]
          },
          "metadata": {},
          "execution_count": 25
        }
      ]
    },
    {
      "cell_type": "markdown",
      "source": [
        "**Joining NumPy Arrays** <br>\n",
        "We can Join NumPy arrays by using **vstack(), hstack() and column_stack()** "
      ],
      "metadata": {
        "id": "5XzumbRpuyLU"
      }
    },
    {
      "cell_type": "markdown",
      "source": [
        "**vstack()**"
      ],
      "metadata": {
        "id": "fNJqfHQqzfQg"
      }
    },
    {
      "cell_type": "code",
      "source": [
        "n10 = np.array([10,20,30])"
      ],
      "metadata": {
        "id": "EW1gXmkaziio"
      },
      "execution_count": null,
      "outputs": []
    },
    {
      "cell_type": "code",
      "source": [
        "n11 = np.array([40,50, 60])"
      ],
      "metadata": {
        "id": "1XAFmvWszqnI"
      },
      "execution_count": null,
      "outputs": []
    },
    {
      "cell_type": "code",
      "source": [
        "np.vstack((n10,n11))"
      ],
      "metadata": {
        "colab": {
          "base_uri": "https://localhost:8080/"
        },
        "id": "s76TJcVyz0ae",
        "outputId": "6d07dcfa-c8b8-4f8b-9580-99c5462f481c"
      },
      "execution_count": null,
      "outputs": [
        {
          "output_type": "execute_result",
          "data": {
            "text/plain": [
              "array([[10, 20, 30],\n",
              "       [40, 50, 60]])"
            ]
          },
          "metadata": {},
          "execution_count": 35
        }
      ]
    },
    {
      "cell_type": "markdown",
      "source": [
        "**hstack()**"
      ],
      "metadata": {
        "id": "6ERqybJc0DUk"
      }
    },
    {
      "cell_type": "code",
      "source": [
        "n12 = np.array([10,20,30])"
      ],
      "metadata": {
        "id": "W7mt9ZCU0HyC"
      },
      "execution_count": null,
      "outputs": []
    },
    {
      "cell_type": "code",
      "source": [
        "n13 = np.array([40,50, 60])"
      ],
      "metadata": {
        "id": "mBBhR04-0LTb"
      },
      "execution_count": null,
      "outputs": []
    },
    {
      "cell_type": "code",
      "source": [
        "np.hstack((n12,n12))"
      ],
      "metadata": {
        "colab": {
          "base_uri": "https://localhost:8080/"
        },
        "id": "lVK_L4kQ0O_y",
        "outputId": "ac3c4912-e950-441a-89a5-cf6aeab06ae6"
      },
      "execution_count": null,
      "outputs": [
        {
          "output_type": "execute_result",
          "data": {
            "text/plain": [
              "array([10, 20, 30, 10, 20, 30])"
            ]
          },
          "metadata": {},
          "execution_count": 34
        }
      ]
    },
    {
      "cell_type": "markdown",
      "source": [
        "**column_stack()**"
      ],
      "metadata": {
        "id": "KFZ2DswU0fg9"
      }
    },
    {
      "cell_type": "code",
      "source": [
        "n14 = np.array([10,20,30])"
      ],
      "metadata": {
        "id": "AC4R23yP0SnG"
      },
      "execution_count": null,
      "outputs": []
    },
    {
      "cell_type": "code",
      "source": [
        "n15 = np.array([40,50, 60])"
      ],
      "metadata": {
        "id": "n_w9eqq5005V"
      },
      "execution_count": null,
      "outputs": []
    },
    {
      "cell_type": "code",
      "source": [
        "np.column_stack((n14,n15))"
      ],
      "metadata": {
        "colab": {
          "base_uri": "https://localhost:8080/"
        },
        "id": "J3VQSdqL04I7",
        "outputId": "9a41caba-6798-48ca-eeae-f07700e66770"
      },
      "execution_count": null,
      "outputs": [
        {
          "output_type": "execute_result",
          "data": {
            "text/plain": [
              "array([[10, 40],\n",
              "       [20, 50],\n",
              "       [30, 60]])"
            ]
          },
          "metadata": {},
          "execution_count": 39
        }
      ]
    },
    {
      "cell_type": "markdown",
      "source": [
        "**NumPy Intersection & Difference**"
      ],
      "metadata": {
        "id": "V_V61Evp10_V"
      }
    },
    {
      "cell_type": "code",
      "source": [
        "n16 = np.array([10,20,30,40,50,60])"
      ],
      "metadata": {
        "id": "ityJ2z4n1AEZ"
      },
      "execution_count": null,
      "outputs": []
    },
    {
      "cell_type": "code",
      "source": [
        "n17 = np.array([50,60,70,80,90])"
      ],
      "metadata": {
        "id": "bIUumIDg2KSB"
      },
      "execution_count": null,
      "outputs": []
    },
    {
      "cell_type": "code",
      "source": [
        "np.intersect1d(n16,n17)"
      ],
      "metadata": {
        "colab": {
          "base_uri": "https://localhost:8080/"
        },
        "id": "BHFQR8Ps2UDv",
        "outputId": "90ef8965-27c2-4388-efdf-b8e5c35e49db"
      },
      "execution_count": null,
      "outputs": [
        {
          "output_type": "execute_result",
          "data": {
            "text/plain": [
              "array([50, 60])"
            ]
          },
          "metadata": {},
          "execution_count": 44
        }
      ]
    },
    {
      "cell_type": "code",
      "source": [
        "np.setdiff1d(n16,n17)"
      ],
      "metadata": {
        "colab": {
          "base_uri": "https://localhost:8080/"
        },
        "id": "BG9KsLdX2cdN",
        "outputId": "b58cfd0c-6596-4bf4-89f2-1b3ad6c88392"
      },
      "execution_count": null,
      "outputs": [
        {
          "output_type": "execute_result",
          "data": {
            "text/plain": [
              "array([10, 20, 30, 40])"
            ]
          },
          "metadata": {},
          "execution_count": 45
        }
      ]
    },
    {
      "cell_type": "code",
      "source": [
        "np.setdiff1d(n17,n16)"
      ],
      "metadata": {
        "colab": {
          "base_uri": "https://localhost:8080/"
        },
        "id": "KgHge9W03y3W",
        "outputId": "019a2f5c-748f-4b38-e040-156d2e453981"
      },
      "execution_count": null,
      "outputs": [
        {
          "output_type": "execute_result",
          "data": {
            "text/plain": [
              "array([70, 80, 90])"
            ]
          },
          "metadata": {},
          "execution_count": 46
        }
      ]
    },
    {
      "cell_type": "markdown",
      "source": [
        "**NumPy Array Mathematics**"
      ],
      "metadata": {
        "id": "ADRBtyot4Kus"
      }
    },
    {
      "cell_type": "markdown",
      "source": [
        "**Sum**"
      ],
      "metadata": {
        "id": "s8ysvHxO41m2"
      }
    },
    {
      "cell_type": "code",
      "source": [
        "n18 = np.array([1,2,3,4,5])"
      ],
      "metadata": {
        "id": "Ju10fZwj4Wie"
      },
      "execution_count": null,
      "outputs": []
    },
    {
      "cell_type": "code",
      "source": [
        "n19 = np.array([6,7,8,9,10])"
      ],
      "metadata": {
        "id": "XOZ2oDO54bPV"
      },
      "execution_count": null,
      "outputs": []
    },
    {
      "cell_type": "code",
      "source": [
        "np.sum([n18,n19])"
      ],
      "metadata": {
        "colab": {
          "base_uri": "https://localhost:8080/"
        },
        "id": "Y17XGVev4m9T",
        "outputId": "387c55fe-78c1-449c-83d2-ffae816d4232"
      },
      "execution_count": null,
      "outputs": [
        {
          "output_type": "execute_result",
          "data": {
            "text/plain": [
              "55"
            ]
          },
          "metadata": {},
          "execution_count": 49
        }
      ]
    },
    {
      "cell_type": "markdown",
      "source": [
        "**Add with respect to Columns**"
      ],
      "metadata": {
        "id": "n40x6q8v4_kb"
      }
    },
    {
      "cell_type": "code",
      "source": [
        "np.sum([n18,n19],axis=0)"
      ],
      "metadata": {
        "colab": {
          "base_uri": "https://localhost:8080/"
        },
        "id": "-E5hQOa74wHc",
        "outputId": "2e73ccae-5e53-4e63-cf2c-8ccb37143a61"
      },
      "execution_count": null,
      "outputs": [
        {
          "output_type": "execute_result",
          "data": {
            "text/plain": [
              "array([ 7,  9, 11, 13, 15])"
            ]
          },
          "metadata": {},
          "execution_count": 50
        }
      ]
    },
    {
      "cell_type": "code",
      "source": [
        "np.sum([n18,n19],axis=1)"
      ],
      "metadata": {
        "colab": {
          "base_uri": "https://localhost:8080/"
        },
        "id": "g1aXuMtt5Oe8",
        "outputId": "c7e5dc46-ae32-4185-cf5d-ed3df76860e9"
      },
      "execution_count": null,
      "outputs": [
        {
          "output_type": "execute_result",
          "data": {
            "text/plain": [
              "array([15, 40])"
            ]
          },
          "metadata": {},
          "execution_count": 52
        }
      ]
    },
    {
      "cell_type": "markdown",
      "source": [
        "**NumPy Math Fuctions**"
      ],
      "metadata": {
        "id": "-3QHevW065nQ"
      }
    },
    {
      "cell_type": "markdown",
      "source": [
        "**Mean**"
      ],
      "metadata": {
        "id": "nS9fMkGs7BxZ"
      }
    },
    {
      "cell_type": "code",
      "source": [
        "np.mean(n18)"
      ],
      "metadata": {
        "colab": {
          "base_uri": "https://localhost:8080/"
        },
        "id": "FBTYwLh36_eG",
        "outputId": "31fd8e38-c192-47ef-c466-5af0bc9c1108"
      },
      "execution_count": null,
      "outputs": [
        {
          "output_type": "execute_result",
          "data": {
            "text/plain": [
              "3.0"
            ]
          },
          "metadata": {},
          "execution_count": 53
        }
      ]
    },
    {
      "cell_type": "markdown",
      "source": [
        "**Median**"
      ],
      "metadata": {
        "id": "MU-0FWiz7REO"
      }
    },
    {
      "cell_type": "code",
      "source": [
        "np.median(n18)"
      ],
      "metadata": {
        "colab": {
          "base_uri": "https://localhost:8080/"
        },
        "id": "Sc7oWPW07Nhk",
        "outputId": "de67c9af-ba03-4179-ec32-6c29c8b40d1f"
      },
      "execution_count": null,
      "outputs": [
        {
          "output_type": "execute_result",
          "data": {
            "text/plain": [
              "3.0"
            ]
          },
          "metadata": {},
          "execution_count": 54
        }
      ]
    },
    {
      "cell_type": "markdown",
      "source": [
        "**Standard Deviation**"
      ],
      "metadata": {
        "id": "QCuZOH3w7fEk"
      }
    },
    {
      "cell_type": "code",
      "source": [
        "np.std(n18)"
      ],
      "metadata": {
        "colab": {
          "base_uri": "https://localhost:8080/"
        },
        "id": "9ej-jS_B7b9z",
        "outputId": "6c67a19f-6697-4e6a-ec9c-21b814dd5eec"
      },
      "execution_count": null,
      "outputs": [
        {
          "output_type": "execute_result",
          "data": {
            "text/plain": [
              "1.4142135623730951"
            ]
          },
          "metadata": {},
          "execution_count": 55
        }
      ]
    },
    {
      "cell_type": "markdown",
      "source": [
        "**NumPy Save & Load**"
      ],
      "metadata": {
        "id": "vRiBG1GW8BbO"
      }
    },
    {
      "cell_type": "code",
      "source": [
        "n20 = np.array([6,7,8,9,10])"
      ],
      "metadata": {
        "id": "Isamihf-7qRP"
      },
      "execution_count": null,
      "outputs": []
    },
    {
      "cell_type": "code",
      "source": [
        "np.save('my_numpy',n20)"
      ],
      "metadata": {
        "id": "f4Rvle6S8O0N"
      },
      "execution_count": null,
      "outputs": []
    },
    {
      "cell_type": "code",
      "source": [
        "n21 = np.load('my_numpy.npy')"
      ],
      "metadata": {
        "id": "JPIRXSLi8VYA"
      },
      "execution_count": null,
      "outputs": []
    },
    {
      "cell_type": "code",
      "source": [
        "n21"
      ],
      "metadata": {
        "colab": {
          "base_uri": "https://localhost:8080/"
        },
        "id": "n5CKgNAn8i-b",
        "outputId": "ae543bf9-317b-415d-a08d-bae92aa8c252"
      },
      "execution_count": null,
      "outputs": [
        {
          "output_type": "execute_result",
          "data": {
            "text/plain": [
              "array([ 6,  7,  8,  9, 10])"
            ]
          },
          "metadata": {},
          "execution_count": 59
        }
      ]
    }
  ]
}